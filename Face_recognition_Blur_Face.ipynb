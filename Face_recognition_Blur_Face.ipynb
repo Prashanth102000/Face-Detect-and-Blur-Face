{
 "cells": [
  {
   "cell_type": "code",
   "execution_count": 1,
   "metadata": {},
   "outputs": [
    {
     "name": "stdout",
     "output_type": "stream",
     "text": [
      "Requirement already satisfied: cvzone in c:\\users\\prashanth m\\anaconda3\\lib\\site-packages (1.5.6)\n",
      "Requirement already satisfied: opencv-python in c:\\users\\prashanth m\\anaconda3\\lib\\site-packages (from cvzone) (4.7.0.72)\n",
      "Requirement already satisfied: numpy in c:\\users\\prashanth m\\anaconda3\\lib\\site-packages (from cvzone) (1.18.5)\n"
     ]
    },
    {
     "name": "stderr",
     "output_type": "stream",
     "text": [
      "DEPRECATION: pyodbc 4.0.0-unsupported has a non-standard version number. pip 23.3 will enforce this behaviour change. A possible replacement is to upgrade to a newer version of pyodbc or contact the author to suggest that they release a version with a conforming version number. Discussion can be found at https://github.com/pypa/pip/issues/12063\n"
     ]
    }
   ],
   "source": [
    "# Install the Library cvzone \n",
    "!pip3 install cvzone"
   ]
  },
  {
   "cell_type": "code",
   "execution_count": 2,
   "metadata": {},
   "outputs": [],
   "source": [
    "import cv2"
   ]
  },
  {
   "cell_type": "code",
   "execution_count": 3,
   "metadata": {},
   "outputs": [],
   "source": [
    "# import the file for classifier - pre-trained face Machine Learning Model\n",
    "model = cv2.CascadeClassifier('haarcascade_frontalface_default.xml')"
   ]
  },
  {
   "cell_type": "code",
   "execution_count": 4,
   "metadata": {},
   "outputs": [],
   "source": [
    "# Open Webcam \n",
    "cap = cv2.VideoCapture(0)"
   ]
  },
  {
   "cell_type": "code",
   "execution_count": 5,
   "metadata": {},
   "outputs": [],
   "source": [
    "# For Video run Infinite loop(FPS)\n",
    "while True:\n",
    "    ret, photo = cap.read()\n",
    "    # For image to be changed to gray scale\n",
    "    gray = cv2.cvtColor(photo,cv2.COLOR_BGR2GRAY)\n",
    "    face  = model.detectMultiScale(gray, 1.3, 5)\n",
    "    if len(face) == 0:\n",
    "        pass\n",
    "    else:\n",
    "        # x1, y1, x2 ,y2 coordinates of model (rectangle)\n",
    "        x1 = face[0][0]\n",
    "        y1 = face[0][1]\n",
    "        x2 = face[0][2] + x1\n",
    "        y2 = face[0][3] + y1 \n",
    "        # 4 Co-ordinates around the Face i.e x1, y1, x2 ,y2\n",
    "        coord_img = photo[y1:y2 , x1:x2]\n",
    "        #Function to Blur of those coordinate points\n",
    "        blurImg = cv2.blur(coord_img, (50,50))\n",
    "        # make the blur to apply on image\n",
    "        photo[y1:y2 , x1:x2] = blurImg\n",
    "        cv2.imshow(\"Video Window\",photo)\n",
    "        # Key press ENTER to exit the loop\n",
    "        if cv2.waitKey(100) == 13:\n",
    "            break\n",
    "            \n",
    "cv2.destroyAllWindows()"
   ]
  },
  {
   "cell_type": "code",
   "execution_count": 6,
   "metadata": {},
   "outputs": [],
   "source": [
    "#to Release the camera \n",
    "cap.release()"
   ]
  },
  {
   "cell_type": "code",
   "execution_count": null,
   "metadata": {},
   "outputs": [],
   "source": []
  },
  {
   "cell_type": "code",
   "execution_count": null,
   "metadata": {},
   "outputs": [],
   "source": []
  },
  {
   "cell_type": "code",
   "execution_count": null,
   "metadata": {},
   "outputs": [],
   "source": []
  },
  {
   "cell_type": "code",
   "execution_count": null,
   "metadata": {},
   "outputs": [],
   "source": []
  },
  {
   "cell_type": "code",
   "execution_count": null,
   "metadata": {},
   "outputs": [],
   "source": []
  }
 ],
 "metadata": {
  "kernelspec": {
   "display_name": "Python 3",
   "language": "python",
   "name": "python3"
  },
  "language_info": {
   "codemirror_mode": {
    "name": "ipython",
    "version": 3
   },
   "file_extension": ".py",
   "mimetype": "text/x-python",
   "name": "python",
   "nbconvert_exporter": "python",
   "pygments_lexer": "ipython3",
   "version": "3.8.3"
  }
 },
 "nbformat": 4,
 "nbformat_minor": 4
}
